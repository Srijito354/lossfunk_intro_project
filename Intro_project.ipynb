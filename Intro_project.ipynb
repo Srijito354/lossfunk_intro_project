{
 "cells": [
  {
   "cell_type": "code",
   "execution_count": 1,
   "metadata": {},
   "outputs": [],
   "source": [
    "#!pip install -Uqq sarvamai\n",
    "from sarvamai import SarvamAI"
   ]
  },
  {
   "cell_type": "code",
   "execution_count": 2,
   "metadata": {},
   "outputs": [
    {
     "data": {
      "text/plain": [
       "'\\nmessages = [\\n    {\"role\": \"system\", \"content\": \"You are a helpful assistant.\"},\\n    {\"role\": \"user\", \"content\": \"What is the capital of India?\"},\\n]\\n\\nresponse = client.chat.completions(\\n    messages=messages,\\n)\\n\\n\\n# Extract and print the assistant\\'s reply\\nreply = response.choices[0].message.content\\nprint(\"Response:\", reply)\\n'"
      ]
     },
     "execution_count": 2,
     "metadata": {},
     "output_type": "execute_result"
    }
   ],
   "source": [
    "SARVAM_API_KEY = \"0140c592-6272-4436-8398-111390895f78\"\n",
    "client = SarvamAI(api_subscription_key=SARVAM_API_KEY)\n",
    "\n",
    "'''\n",
    "messages = [\n",
    "    {\"role\": \"system\", \"content\": \"You are a helpful assistant.\"},\n",
    "    {\"role\": \"user\", \"content\": \"What is the capital of India?\"},\n",
    "]\n",
    "\n",
    "response = client.chat.completions(\n",
    "    messages=messages,\n",
    ")\n",
    "\n",
    "\n",
    "# Extract and print the assistant's reply\n",
    "reply = response.choices[0].message.content\n",
    "print(\"Response:\", reply)\n",
    "'''"
   ]
  },
  {
   "cell_type": "code",
   "execution_count": 3,
   "metadata": {},
   "outputs": [],
   "source": [
    "def judge_a(joke):\n",
    "    messages = [\n",
    "        {\"role\": \"system\", \"content\": \"You are Judge A, sarcastic and cynical.\"},\n",
    "        {\"role\": \"user\", \"content\": f'Rate the following joke from 1 (lame) to 10 (hilarious), and explain your rating:\\n\\n\"{joke}\"'}\n",
    "    ]\n",
    "    resp = client.chat.completions(messages=messages, temperature=0.7, max_tokens=200)\n",
    "    return resp.choices[0].message.content\n",
    "\n",
    "def judge_b(joke):\n",
    "    messages = [\n",
    "        {\"role\": \"system\", \"content\": \"You are Judge B, obsessed with absurdist, surreal humor.\"},\n",
    "        {\"role\": \"user\", \"content\": f'Rate the following joke from 1 (lame) to 10 (hilarious), and explain your rating:\\n\\n\"{joke}\"'}\n",
    "    ]\n",
    "    resp = client.chat.completions(messages=messages, temperature=0.7, max_tokens=200)\n",
    "    return resp.choices[0].message.content\n",
    "\n",
    "def judge_c(joke):\n",
    "    messages = [\n",
    "        {\"role\": \"system\", \"content\": \"You are Judge C, balanced and thoughtful.\"},\n",
    "        {\"role\": \"user\", \"content\": f'Rate the following joke from 1 (lame) to 10 (hilarious), and explain your rating:\\n\\n\"{joke}\"'}\n",
    "    ]\n",
    "    resp = client.chat.completions(messages=messages, temperature=0.7, max_tokens=200)\n",
    "    return resp.choices[0].message.content"
   ]
  },
  {
   "cell_type": "code",
   "execution_count": 4,
   "metadata": {},
   "outputs": [],
   "source": [
    "def get_judgments(joke):\n",
    "    return {\n",
    "        \"Judge A\": judge_a(joke),\n",
    "        \"Judge B\": judge_b(joke),\n",
    "        \"Judge C\": judge_c(joke)\n",
    "    }"
   ]
  },
  {
   "cell_type": "code",
   "execution_count": 5,
   "metadata": {},
   "outputs": [],
   "source": [
    "def simulate_debate(joke, judgments):\n",
    "    content = \"\\n\\n\".join([f\"**{name}**:\\n{resp}\" for name, resp in judgments.items()])\n",
    "    debate_prompt = f\"\"\"\n",
    "Below is a joke and three judges’ ratings. Simulate a short discussion among the judges. They should debate a bit, then agree on a final rating (1–10) and reason:\n",
    "\n",
    "Joke:\n",
    "\"{joke}\"\n",
    "\n",
    "Judgments so far:\n",
    "{content}\n",
    "\n",
    "At the end of your discussion, agree on and state a clear Final Rating: <number>\n",
    "\"\"\"\n",
    "    resp = client.chat.completions(messages=[{\"role\": \"user\", \"content\": debate_prompt}], temperature=0.7, max_tokens=300)\n",
    "    return resp.choices[0].message.content"
   ]
  },
  {
   "cell_type": "code",
   "execution_count": 37,
   "metadata": {},
   "outputs": [
    {
     "name": "stdout",
     "output_type": "stream",
     "text": [
      "--- Judge A ---\n",
      " Oh, smash. Another one for the \"cute but painfully predictable\" file. Let's go for a swim, shall we?\n",
      "\n",
      "--- Judge B ---\n",
      " Ah, a penguin, sunscreen, and a 'chill party'! The sheer incongruity... the unexpected juxtaposition of icy feathers and solar protection! And the destination: a 'chill party'!  A gathering of what, ice cubes? Frozen yogurt enthusiasts? The absurdity layers itself like a perfectly prepared snowman. It's not quite Pinter, but it has a certain... je ne sais quoi. I'd give it a solid 7. It's not groundbreaking, but it's amusingly bizarre, like finding a giraffe wearing a top hat.\n",
      "\n",
      "--- Judge C ---\n",
      " I'd rate this joke a 6 out of 10. It's a playful pun that relies on the double meaning of \"chill,\" which is moderately clever. The setup is fairly predictable, and the punchline is somewhat expected, but it's still amusing and lighthearted. The joke's brevity and simplicity make it accessible, but it doesn't quite reach the heights of originality or sophistication.\n",
      "\n",
      "--- Debate & Final Verdict ---\n",
      "\n",
      " **Judge A**: *sighs* Alright, fine, but only because I can’t find a *real* joke. Maybe a 5? It’s… something.  \n",
      "\n",
      "**Judge B**: *adjusts imaginary monocle* While I appreciate the layers of absurdity, I must admit—it’s not quite *Dali*. But the imagery of penguins slathering sunscreen while mingling with ice cubes? That’s *something*. Let’s say 6.  \n",
      "\n",
      "**Judge C**: Honestly, it’s not terrible. The wordplay works, but it’s not *unforgettable*. I’m sticking with my 6—it’s harmless fun, nothing more.  \n",
      "\n",
      "**Final Rating**: **6**  \n",
      "\n",
      "*Reasons*: The joke’s strength lies in its absurdity and wordplay, but it leans heavily on predictability and lacks originality. It’s amusing, but not groundbreaking—much like a penguin at a beach party.\n"
     ]
    }
   ],
   "source": [
    "# Performing a test run.\n",
    "joke = \"Why did the penguin bring sunscreen? Because he was going to a chill party.\"\n",
    "\n",
    "judgments = get_judgments(joke)\n",
    "for name, out in judgments.items():\n",
    "    print(f\"--- {name} ---\\n{out}\\n\")\n",
    "\n",
    "print(\"--- Debate & Final Verdict ---\\n\")\n",
    "print(simulate_debate(joke, judgments))"
   ]
  },
  {
   "cell_type": "code",
   "execution_count": 44,
   "metadata": {},
   "outputs": [
    {
     "name": "stdout",
     "output_type": "stream",
     "text": [
      "1. Why did the penguin bring a ladder to the bar? Because he heard the drinks were on the house\n",
      "2. Why did the penguin bring a ladder to the bar? Because he wanted to reach the high-smС\n",
      "3. What do you call a penguin that love the trapeze? A penguin with a death wish\n",
      "4. What do you call a penguin that love the trapeze? A frozen tough of the track\n",
      "5. How does a penguin build its house? He starts with a foundation of ice cubes\n",
      "6. How does a penguin build its house? He follows a do-it-yourselfkit from IKEA called \"Frosty's Buddy Nest.\"\n"
     ]
    }
   ],
   "source": [
    "# PlanSearch generator\n",
    "def generate_setups(topic, n=5):\n",
    "    prompt = f\"\"\"Generate {n} unique and original joke setups about the topic \"{topic}\".\n",
    "Only return the setups, numbered, with no punchlines or explanations. Example format:\n",
    "\n",
    "1. Why did the penguin wear sunglasses at night?\n",
    "2. What happens when a penguin tries online dating?\n",
    "\n",
    "Now generate {n} setups in that format.\"\"\"\n",
    "    \n",
    "    response = client.chat.completions(\n",
    "        messages=[{\"role\": \"user\", \"content\": prompt}],\n",
    "        temperature=0.9,\n",
    "        max_tokens=300\n",
    "    )\n",
    "    \n",
    "    setups_raw = response.choices[0].message.content\n",
    "    \n",
    "    # Parse list format (1. ..., 2. ..., etc.)\n",
    "    setups = [line.strip(\"1234567890. \").strip() for line in setups_raw.split(\"\\n\") if line.strip()]\n",
    "    return setups[:n]\n",
    "\n",
    "def generate_punchlines(setup, n=3):\n",
    "    prompt = f\"\"\"Generate {n} punchlines for the following joke setup:\n",
    "\n",
    "\"{setup}\"\n",
    "\n",
    "Only return the punchlines, numbered, with no extra commentary or explanation. Example:\n",
    "\n",
    "1. Because he was trying to look cool in the moonlight.\n",
    "2. Because the club only played Arctic Monkeys.\n",
    "\n",
    "Now generate {n} punchlines in that format.\"\"\"\n",
    "\n",
    "    \n",
    "    response = client.chat.completions(\n",
    "        messages=[{\"role\": \"user\", \"content\": prompt}],\n",
    "        temperature=0.9,\n",
    "        max_tokens=300\n",
    "    )\n",
    "    \n",
    "    punchlines_raw = response.choices[0].message.content\n",
    "    \n",
    "    punchlines = [line.strip(\"1234567890. \").strip() for line in punchlines_raw.split(\"\\n\") if line.strip()]\n",
    "    return punchlines[:n]\n",
    "\n",
    "def generate_jokes(topic=\"penguins\", n_setups=3, n_punchlines=2):\n",
    "    setups = generate_setups(topic, n=n_setups)\n",
    "    jokes = []\n",
    "\n",
    "    for setup in setups:\n",
    "        punchlines = generate_punchlines(setup, n=n_punchlines)\n",
    "        for punch in punchlines:\n",
    "            jokes.append(f\"{setup} {punch}\")\n",
    "\n",
    "    return jokes\n",
    "\n",
    "joke_list = []\n",
    "jokes = generate_jokes(\"penguins\", n_setups=3, n_punchlines=2)\n",
    "for i, joke in enumerate(jokes, 1):\n",
    "    print(f\"{i}. {joke}\")\n",
    "    joke_list.append(joke)"
   ]
  },
  {
   "cell_type": "code",
   "execution_count": null,
   "metadata": {},
   "outputs": [],
   "source": [
    "import re\n",
    "\n",
    "def extract_final_rating(text):\n",
    "    \n",
    "    match = re.search(r'\\*\\*Final Rating\\*\\*[:\\s]*\\*\\*(\\d+)\\*\\*', text)\n",
    "    if match:\n",
    "        return int(match.group(1))\n",
    "    \n",
    "    # fallback for non-bolded rating\n",
    "    match = re.search(r'Final Rating[:\\s]*([0-9]+)', text)\n",
    "    if match:\n",
    "        return int(match.group(1))\n",
    "\n",
    "    return None  # if nothing found"
   ]
  },
  {
   "cell_type": "code",
   "execution_count": 48,
   "metadata": {},
   "outputs": [
    {
     "name": "stdout",
     "output_type": "stream",
     "text": [
      "--- Judge A ---\n",
      " Hmm, let's see. A penguin, a ladder, a bar... Oh, I get it. A play on words, how original. 'On the house' meaning free drinks, and the penguin is so stupid he thinks it's actually *on* the roof. Or maybe he's just really bad at following directions. I'll give it a 6. It's not the worst thing I've heard, but it's certainly not groundbreaking comedy. Maybe if I'd had a few of those free drinks, I would have laughed.\n",
      "\n",
      "--- Judge B ---\n",
      " Hmm, a penguin, a ladder, a bar... on the house... I must say, the incongruity is quite delightfully preposterous! The unexpectedness of a penguin's involvement with a ladder at a bar, combined with the pun on 'on the house', creates a delightful little absurdity. It's not exactly groundbreaking, but it's certainly amusing in its simplicity. I'd give it a solid 7. It's absurd, which I appreciate, but perhaps a bit predictable in its approach. Still, the image of a penguin struggling with a ladder at a bar is quite charming, isn't it?\n",
      "\n",
      "--- Judge C ---\n",
      " I'd rate this joke a 6 out of 10. It's a play on the common phrase \"the drinks are on the house,\" which means the establishment is providing free drinks. The punchline subverts the expectation by taking the phrase literally, which is a fairly common type of humor. While the joke is moderately clever and has a decent punchline, it's not particularly original or surprising, and the execution is somewhat straightforward. Therefore, it's amusing but doesn't quite reach hilarious status.\n",
      "\n",
      "--- Debate & Final Verdict ---\n",
      "\n",
      " **Judge A**: \"I still think it's a 6. The pun is obvious, and while the penguin imagery is amusing, it doesn't really take the joke anywhere new. Maybe a 7 if we're feeling generous, but not more.\"  \n",
      "\n",
      "**Judge B**: \"I'm torn between 7 and 8. The absurdity is strong, and the visual of a penguin with a ladder at a bar is quite charming. But you're right—it's not groundbreaking. Maybe we compromise at 7.5?\"  \n",
      "\n",
      "**Judge C**: \"I’ll meet you in the middle. The joke is solid but not exceptional. The pun is clear, and the imagery helps, but it’s nothing revolutionary. I’d say 7 too.\"  \n",
      "\n",
      "**Final Rating**: **7**  \n",
      "*Reasoning*: The joke effectively uses wordplay and absurdity to create a lighthearted, if not groundbreaking, punchline. The penguin’s involvement adds charm, but the humor remains straightforward and predictable.\n",
      "--- Judge A ---\n",
      " Oh, brilliant. A penguin, a ladder, and a pun on 'high-smC'.  I'm not even sure what 'smC' is supposed to be, but the attempt at a play on words is painfully obvious and about as subtle as a sledgehammer to the face. It's the kind of joke that makes me question the genetic engineering that went into creating sentient beings capable of such… creativity. I'd give it a solid 2. It's not the worst joke I've heard, but it's definitely up there.\n",
      "\n",
      "--- Judge B ---\n",
      " Ah, a classic! A penguin, a ladder, a bar... the juxtaposition is delightfully ridiculous. The punchline twists the expectation of 'high society' into 'high-smC,' which is... unexpectedly literal. It's a clever little play on words, but the visual of a penguin struggling with a ladder in a bar is what truly seals the deal. It's absurd, and I love it. \n",
      "\n",
      "I'd give it a 7.5, if only because the smC part feels a bit… forced, but the overall image is quite amusing.\n",
      "\n",
      "--- Judge C ---\n",
      " I'd rate this joke a 6 out of 10.\n",
      "\n",
      "It's a reasonably clever play on words, combining the penguin stereotype (often associated with cold environments and possibly sliding on ice) with the common experience of wanting to reach higher levels of intoxication or social standing in a bar setting. The pun on \"high-sm\" (implying both 'high' as in elevated and 'sm' as in 'smoke' or 'smack,' though not explicitly mentioned) is moderately witty.\n",
      "\n",
      "However, the humor relies heavily on the listener's ability to quickly make the connection between the penguin's action (bringing a ladder) and the intended pun. It's not a groundbreaking joke, nor is it particularly original, but it's more than just a simple sight gag or a straightforward pun. The execution is reasonably well done, though the punchline might feel a little forced.\n",
      "\n",
      "--- Debate & Final Verdict ---\n",
      "\n",
      " **Judge A**: *\"While the pun is certainly... audacious, I still feel the smC is a bit of a stretch. The image of a penguin with a ladder is funny, but the joke’s success hinges on an obscure wordplay that might go over many heads.\"*  \n",
      "\n",
      "**Judge B**: *\"I agree the smC is a bit forced, but the absurdity of the visual and the twist on 'high society' makes it memorable. It’s not high art, but it’s amusing in a silly, lighthearted way.\"*  \n",
      "\n",
      "**Judge C**: *\"Perhaps we’re overcomplicating it. The joke works best if you go with the flow—penguin, ladder, bar, and the pun lands as a playful surprise rather than a deep wordplay. It’s not great, but it’s decent.\"*  \n",
      "\n",
      "**Final Rating**: **6/10**  \n",
      "**Reason**: The joke’s humor is moderate—it has a clear pun and a ridiculous image, but the wordplay is a bit strained and relies on quick thinking from the audience. It’s not a standout, but it’s amusing for what it is.\n",
      "--- Judge A ---\n",
      " Oh, I'm so glad you brought me this. This so-called 'joke' is funnier than a root canal on a Monday morning. It's a solid zero out of ten. The only thing more pathetic than the 'punchline' is the obvious lack of effort the person put into it.\n",
      "\n",
      "--- Judge B ---\n",
      " Ah, a penguin with a death wish! A most melancholic and acrobatic avian! I rate this jest a solid 7 out of 10. The absurdity is quite palatable, like a surrealist painting on a Tuesday. The unexpected twist of the trapeze, a symbol of joy and freedom, paired with the penguin's inherent waddle and inability to truly *fly* (though they swim like furry torpedoes), creates a delightfully dark comedic juxtaposition. However, it loses a point for being slightly...obvious in its self-aware puns. It's funny, but it *knows* it's funny, and that self-awareness can sometimes drag things down, like an anchor made of rubber chickens. Still, well played, comedian. Well played.\n",
      "\n",
      "--- Judge C ---\n",
      " I'd rate this joke a 6 out of 10. It's a play on words, combining 'penguin' with 'trap' in a humorous way. The punchline is somewhat predictable, relying on the common trope of animals with unusual behaviors leading to danger or death. While the wordplay is decent, the joke doesn't quite take off and feels a little underdeveloped. A more unexpected twist or a cleverer wordplay could have elevated it significantly.\n",
      "\n",
      "--- Debate & Final Verdict ---\n",
      "\n",
      " **Judge A**: (Scoffs) \"Honestly, Judges B and C are being too generous. This 'joke' is dumber than a slapstick penguin trying to parallel park. If I had to rate it fairly, it's a solid **1**—because technically, *something* made me react, even if it was just facepalming.\"  \n",
      "\n",
      "**Judge B**: \"Oh, come now, Judge A! While not a masterpiece, the absurdity has *some* merit. The IKEA reference adds a modern twist—penguins adapting to human consumerism! It’s not Shakespeare, but it’s amusing. Maybe a **6** for effort, even if the execution is... wobbly.\"  \n",
      "\n",
      "**Judge C**: \"I appreciate the middle ground, Judge B, but the joke still feels too safe. The 'trap' pun is overused, and the IKEA angle doesn’t add much depth. It’s a **4**—not terrible, but not great either.\"  \n",
      "\n",
      "**Judge B**: \"Hmm, fine. If we’re averaging, let’s meet at **5**. It’s not *awful*, but it’s not *ೇವಗ್ನಿ* either.\"  \n",
      "\n",
      "**Judge A**: (Groans) \"Fine, but only because you’re both threatening my authority. **5 it is**—but only if we all\n",
      "--- Judge A ---\n",
      " 6\n",
      "\n",
      "--- Judge B ---\n",
      " Hmm, a penguin with a penchant for the trapeze... a frozen tough of the track...\n",
      "\n",
      "--- Judge C ---\n",
      " I'd rate this joke a 6 out of 10. It's a play on words, which I appreciate. The setup is decent, but the punchline \"frozen tough of the track\" feels a little forced and doesn't quite land as smoothly as it could. The forced rhyme with \"tough\" and \"track\" makes it feel less natural. A more clever wordplay or a better integration of the trapeze element would have elevated it further. It has potential, but the execution needs some refinement.\n",
      "\n",
      "--- Debate & Final Verdict ---\n",
      "\n"
     ]
    },
    {
     "ename": "TooManyRequestsError",
     "evalue": "status_code: 429, body: {'error': {'message': 'Rate limit exceeded', 'code': 'rate_limit_exceeded_error', 'request_id': '20250614_e9558438-009c-40e3-865d-90747f082dc6'}}",
     "output_type": "error",
     "traceback": [
      "\u001b[0;31m---------------------------------------------------------------------------\u001b[0m",
      "\u001b[0;31mTooManyRequestsError\u001b[0m                      Traceback (most recent call last)",
      "Cell \u001b[0;32mIn[48], line 10\u001b[0m\n\u001b[1;32m      7\u001b[0m     \u001b[38;5;28mprint\u001b[39m(\u001b[38;5;124mf\u001b[39m\u001b[38;5;124m\"\u001b[39m\u001b[38;5;124m--- \u001b[39m\u001b[38;5;132;01m{\u001b[39;00mname\u001b[38;5;132;01m}\u001b[39;00m\u001b[38;5;124m ---\u001b[39m\u001b[38;5;130;01m\\n\u001b[39;00m\u001b[38;5;132;01m{\u001b[39;00mout\u001b[38;5;132;01m}\u001b[39;00m\u001b[38;5;130;01m\\n\u001b[39;00m\u001b[38;5;124m\"\u001b[39m)\n\u001b[1;32m      9\u001b[0m \u001b[38;5;28mprint\u001b[39m(\u001b[38;5;124m\"\u001b[39m\u001b[38;5;124m--- Debate & Final Verdict ---\u001b[39m\u001b[38;5;130;01m\\n\u001b[39;00m\u001b[38;5;124m\"\u001b[39m)\n\u001b[0;32m---> 10\u001b[0m text \u001b[38;5;241m=\u001b[39m \u001b[43msimulate_debate\u001b[49m\u001b[43m(\u001b[49m\u001b[43mjoke\u001b[49m\u001b[43m,\u001b[49m\u001b[43m \u001b[49m\u001b[43mjudgments\u001b[49m\u001b[43m)\u001b[49m\n\u001b[1;32m     11\u001b[0m \u001b[38;5;28mprint\u001b[39m(text)\n\u001b[1;32m     12\u001b[0m rating \u001b[38;5;241m=\u001b[39m extract_final_rating(text)\n",
      "Cell \u001b[0;32mIn[36], line 14\u001b[0m, in \u001b[0;36msimulate_debate\u001b[0;34m(joke, judgments)\u001b[0m\n\u001b[1;32m      2\u001b[0m     content \u001b[38;5;241m=\u001b[39m \u001b[38;5;124m\"\u001b[39m\u001b[38;5;130;01m\\n\u001b[39;00m\u001b[38;5;130;01m\\n\u001b[39;00m\u001b[38;5;124m\"\u001b[39m\u001b[38;5;241m.\u001b[39mjoin([\u001b[38;5;124mf\u001b[39m\u001b[38;5;124m\"\u001b[39m\u001b[38;5;124m**\u001b[39m\u001b[38;5;132;01m{\u001b[39;00mname\u001b[38;5;132;01m}\u001b[39;00m\u001b[38;5;124m**:\u001b[39m\u001b[38;5;130;01m\\n\u001b[39;00m\u001b[38;5;132;01m{\u001b[39;00mresp\u001b[38;5;132;01m}\u001b[39;00m\u001b[38;5;124m\"\u001b[39m \u001b[38;5;28;01mfor\u001b[39;00m name, resp \u001b[38;5;129;01min\u001b[39;00m judgments\u001b[38;5;241m.\u001b[39mitems()])\n\u001b[1;32m      3\u001b[0m     debate_prompt \u001b[38;5;241m=\u001b[39m \u001b[38;5;124mf\u001b[39m\u001b[38;5;124m\"\"\"\u001b[39m\n\u001b[1;32m      4\u001b[0m \u001b[38;5;124mBelow is a joke and three judges’ ratings. Simulate a short discussion among the judges. They should debate a bit, then agree on a final rating (1–10) and reason:\u001b[39m\n\u001b[1;32m      5\u001b[0m \n\u001b[0;32m   (...)\u001b[0m\n\u001b[1;32m     12\u001b[0m \u001b[38;5;124mAt the end of your discussion, agree on and state a clear Final Rating: <number>\u001b[39m\n\u001b[1;32m     13\u001b[0m \u001b[38;5;124m\"\"\"\u001b[39m\n\u001b[0;32m---> 14\u001b[0m     resp \u001b[38;5;241m=\u001b[39m \u001b[43mclient\u001b[49m\u001b[38;5;241;43m.\u001b[39;49m\u001b[43mchat\u001b[49m\u001b[38;5;241;43m.\u001b[39;49m\u001b[43mcompletions\u001b[49m\u001b[43m(\u001b[49m\u001b[43mmessages\u001b[49m\u001b[38;5;241;43m=\u001b[39;49m\u001b[43m[\u001b[49m\u001b[43m{\u001b[49m\u001b[38;5;124;43m\"\u001b[39;49m\u001b[38;5;124;43mrole\u001b[39;49m\u001b[38;5;124;43m\"\u001b[39;49m\u001b[43m:\u001b[49m\u001b[43m \u001b[49m\u001b[38;5;124;43m\"\u001b[39;49m\u001b[38;5;124;43muser\u001b[39;49m\u001b[38;5;124;43m\"\u001b[39;49m\u001b[43m,\u001b[49m\u001b[43m \u001b[49m\u001b[38;5;124;43m\"\u001b[39;49m\u001b[38;5;124;43mcontent\u001b[39;49m\u001b[38;5;124;43m\"\u001b[39;49m\u001b[43m:\u001b[49m\u001b[43m \u001b[49m\u001b[43mdebate_prompt\u001b[49m\u001b[43m}\u001b[49m\u001b[43m]\u001b[49m\u001b[43m,\u001b[49m\u001b[43m \u001b[49m\u001b[43mtemperature\u001b[49m\u001b[38;5;241;43m=\u001b[39;49m\u001b[38;5;241;43m0.7\u001b[39;49m\u001b[43m,\u001b[49m\u001b[43m \u001b[49m\u001b[43mmax_tokens\u001b[49m\u001b[38;5;241;43m=\u001b[39;49m\u001b[38;5;241;43m300\u001b[39;49m\u001b[43m)\u001b[49m\n\u001b[1;32m     15\u001b[0m     \u001b[38;5;28;01mreturn\u001b[39;00m resp\u001b[38;5;241m.\u001b[39mchoices[\u001b[38;5;241m0\u001b[39m]\u001b[38;5;241m.\u001b[39mmessage\u001b[38;5;241m.\u001b[39mcontent\n",
      "File \u001b[0;32m~/.local/lib/python3.10/site-packages/sarvamai/chat/client.py:121\u001b[0m, in \u001b[0;36mChatClient.completions\u001b[0;34m(self, messages, temperature, top_p, reasoning_effort, max_tokens, stream, stop, n, seed, frequency_penalty, presence_penalty, wiki_grounding, request_options)\u001b[0m\n\u001b[1;32m     33\u001b[0m \u001b[38;5;28;01mdef\u001b[39;00m \u001b[38;5;21mcompletions\u001b[39m(\n\u001b[1;32m     34\u001b[0m     \u001b[38;5;28mself\u001b[39m,\n\u001b[1;32m     35\u001b[0m     \u001b[38;5;241m*\u001b[39m,\n\u001b[0;32m   (...)\u001b[0m\n\u001b[1;32m     48\u001b[0m     request_options: typing\u001b[38;5;241m.\u001b[39mOptional[RequestOptions] \u001b[38;5;241m=\u001b[39m \u001b[38;5;28;01mNone\u001b[39;00m,\n\u001b[1;32m     49\u001b[0m ) \u001b[38;5;241m-\u001b[39m\u001b[38;5;241m>\u001b[39m CreateChatCompletionResponse:\n\u001b[1;32m     50\u001b[0m \u001b[38;5;250m    \u001b[39m\u001b[38;5;124;03m\"\"\"\u001b[39;00m\n\u001b[1;32m     51\u001b[0m \u001b[38;5;124;03m    Calls Sarvam LLM API to get the chat completion. Supported model(s): `sarvam-m`.\u001b[39;00m\n\u001b[1;32m     52\u001b[0m \n\u001b[0;32m   (...)\u001b[0m\n\u001b[1;32m    119\u001b[0m \u001b[38;5;124;03m    )\u001b[39;00m\n\u001b[1;32m    120\u001b[0m \u001b[38;5;124;03m    \"\"\"\u001b[39;00m\n\u001b[0;32m--> 121\u001b[0m     response \u001b[38;5;241m=\u001b[39m \u001b[38;5;28;43mself\u001b[39;49m\u001b[38;5;241;43m.\u001b[39;49m\u001b[43m_raw_client\u001b[49m\u001b[38;5;241;43m.\u001b[39;49m\u001b[43mcompletions\u001b[49m\u001b[43m(\u001b[49m\n\u001b[1;32m    122\u001b[0m \u001b[43m        \u001b[49m\u001b[43mmessages\u001b[49m\u001b[38;5;241;43m=\u001b[39;49m\u001b[43mmessages\u001b[49m\u001b[43m,\u001b[49m\n\u001b[1;32m    123\u001b[0m \u001b[43m        \u001b[49m\u001b[43mtemperature\u001b[49m\u001b[38;5;241;43m=\u001b[39;49m\u001b[43mtemperature\u001b[49m\u001b[43m,\u001b[49m\n\u001b[1;32m    124\u001b[0m \u001b[43m        \u001b[49m\u001b[43mtop_p\u001b[49m\u001b[38;5;241;43m=\u001b[39;49m\u001b[43mtop_p\u001b[49m\u001b[43m,\u001b[49m\n\u001b[1;32m    125\u001b[0m \u001b[43m        \u001b[49m\u001b[43mreasoning_effort\u001b[49m\u001b[38;5;241;43m=\u001b[39;49m\u001b[43mreasoning_effort\u001b[49m\u001b[43m,\u001b[49m\n\u001b[1;32m    126\u001b[0m \u001b[43m        \u001b[49m\u001b[43mmax_tokens\u001b[49m\u001b[38;5;241;43m=\u001b[39;49m\u001b[43mmax_tokens\u001b[49m\u001b[43m,\u001b[49m\n\u001b[1;32m    127\u001b[0m \u001b[43m        \u001b[49m\u001b[43mstream\u001b[49m\u001b[38;5;241;43m=\u001b[39;49m\u001b[43mstream\u001b[49m\u001b[43m,\u001b[49m\n\u001b[1;32m    128\u001b[0m \u001b[43m        \u001b[49m\u001b[43mstop\u001b[49m\u001b[38;5;241;43m=\u001b[39;49m\u001b[43mstop\u001b[49m\u001b[43m,\u001b[49m\n\u001b[1;32m    129\u001b[0m \u001b[43m        \u001b[49m\u001b[43mn\u001b[49m\u001b[38;5;241;43m=\u001b[39;49m\u001b[43mn\u001b[49m\u001b[43m,\u001b[49m\n\u001b[1;32m    130\u001b[0m \u001b[43m        \u001b[49m\u001b[43mseed\u001b[49m\u001b[38;5;241;43m=\u001b[39;49m\u001b[43mseed\u001b[49m\u001b[43m,\u001b[49m\n\u001b[1;32m    131\u001b[0m \u001b[43m        \u001b[49m\u001b[43mfrequency_penalty\u001b[49m\u001b[38;5;241;43m=\u001b[39;49m\u001b[43mfrequency_penalty\u001b[49m\u001b[43m,\u001b[49m\n\u001b[1;32m    132\u001b[0m \u001b[43m        \u001b[49m\u001b[43mpresence_penalty\u001b[49m\u001b[38;5;241;43m=\u001b[39;49m\u001b[43mpresence_penalty\u001b[49m\u001b[43m,\u001b[49m\n\u001b[1;32m    133\u001b[0m \u001b[43m        \u001b[49m\u001b[43mwiki_grounding\u001b[49m\u001b[38;5;241;43m=\u001b[39;49m\u001b[43mwiki_grounding\u001b[49m\u001b[43m,\u001b[49m\n\u001b[1;32m    134\u001b[0m \u001b[43m        \u001b[49m\u001b[43mrequest_options\u001b[49m\u001b[38;5;241;43m=\u001b[39;49m\u001b[43mrequest_options\u001b[49m\u001b[43m,\u001b[49m\n\u001b[1;32m    135\u001b[0m \u001b[43m    \u001b[49m\u001b[43m)\u001b[49m\n\u001b[1;32m    136\u001b[0m     \u001b[38;5;28;01mreturn\u001b[39;00m response\u001b[38;5;241m.\u001b[39mdata\n",
      "File \u001b[0;32m~/.local/lib/python3.10/site-packages/sarvamai/chat/raw_client.py:177\u001b[0m, in \u001b[0;36mRawChatClient.completions\u001b[0;34m(self, messages, temperature, top_p, reasoning_effort, max_tokens, stream, stop, n, seed, frequency_penalty, presence_penalty, wiki_grounding, request_options)\u001b[0m\n\u001b[1;32m    167\u001b[0m     \u001b[38;5;28;01mraise\u001b[39;00m UnprocessableEntityError(\n\u001b[1;32m    168\u001b[0m         typing\u001b[38;5;241m.\u001b[39mcast(\n\u001b[1;32m    169\u001b[0m             typing\u001b[38;5;241m.\u001b[39mOptional[typing\u001b[38;5;241m.\u001b[39mAny],\n\u001b[0;32m   (...)\u001b[0m\n\u001b[1;32m    174\u001b[0m         )\n\u001b[1;32m    175\u001b[0m     )\n\u001b[1;32m    176\u001b[0m \u001b[38;5;28;01mif\u001b[39;00m _response\u001b[38;5;241m.\u001b[39mstatus_code \u001b[38;5;241m==\u001b[39m \u001b[38;5;241m429\u001b[39m:\n\u001b[0;32m--> 177\u001b[0m     \u001b[38;5;28;01mraise\u001b[39;00m TooManyRequestsError(\n\u001b[1;32m    178\u001b[0m         typing\u001b[38;5;241m.\u001b[39mcast(\n\u001b[1;32m    179\u001b[0m             typing\u001b[38;5;241m.\u001b[39mOptional[typing\u001b[38;5;241m.\u001b[39mAny],\n\u001b[1;32m    180\u001b[0m             parse_obj_as(\n\u001b[1;32m    181\u001b[0m                 type_\u001b[38;5;241m=\u001b[39mtyping\u001b[38;5;241m.\u001b[39mOptional[typing\u001b[38;5;241m.\u001b[39mAny],  \u001b[38;5;66;03m# type: ignore\u001b[39;00m\n\u001b[1;32m    182\u001b[0m                 object_\u001b[38;5;241m=\u001b[39m_response\u001b[38;5;241m.\u001b[39mjson(),\n\u001b[1;32m    183\u001b[0m             ),\n\u001b[1;32m    184\u001b[0m         )\n\u001b[1;32m    185\u001b[0m     )\n\u001b[1;32m    186\u001b[0m \u001b[38;5;28;01mif\u001b[39;00m _response\u001b[38;5;241m.\u001b[39mstatus_code \u001b[38;5;241m==\u001b[39m \u001b[38;5;241m500\u001b[39m:\n\u001b[1;32m    187\u001b[0m     \u001b[38;5;28;01mraise\u001b[39;00m InternalServerError(\n\u001b[1;32m    188\u001b[0m         typing\u001b[38;5;241m.\u001b[39mcast(\n\u001b[1;32m    189\u001b[0m             typing\u001b[38;5;241m.\u001b[39mOptional[typing\u001b[38;5;241m.\u001b[39mAny],\n\u001b[0;32m   (...)\u001b[0m\n\u001b[1;32m    194\u001b[0m         )\n\u001b[1;32m    195\u001b[0m     )\n",
      "\u001b[0;31mTooManyRequestsError\u001b[0m: status_code: 429, body: {'error': {'message': 'Rate limit exceeded', 'code': 'rate_limit_exceeded_error', 'request_id': '20250614_e9558438-009c-40e3-865d-90747f082dc6'}}"
     ]
    }
   ],
   "source": [
    "score_list = []\n",
    "score_and_joke_dict = {}\n",
    "score_and_joke_list = []\n",
    "for joke_str in joke_list:\n",
    "    judgments = get_judgments(joke_str)\n",
    "    for name, out in judgments.items():\n",
    "        print(f\"--- {name} ---\\n{out}\\n\")\n",
    "\n",
    "    print(\"--- Debate & Final Verdict ---\\n\")\n",
    "    text = simulate_debate(joke, judgments)\n",
    "    print(text)\n",
    "    rating = extract_final_rating(text)\n",
    "    score_list.append(rating)\n",
    "    score_and_joke_dict = {\n",
    "        \"joke\":joke_str,\n",
    "        \"score\":rating\n",
    "    }\n",
    "    score_and_joke_list.append(score_and_joke_dict)"
   ]
  },
  {
   "cell_type": "code",
   "execution_count": 49,
   "metadata": {},
   "outputs": [
    {
     "data": {
      "text/plain": [
       "[{'joke': 'Why did the penguin bring a ladder to the bar? Because he heard the drinks were on the house',\n",
       "  'score': 7},\n",
       " {'joke': 'Why did the penguin bring a ladder to the bar? Because he wanted to reach the high-smС',\n",
       "  'score': None},\n",
       " {'joke': 'What do you call a penguin that love the trapeze? A penguin with a death wish',\n",
       "  'score': None}]"
      ]
     },
     "execution_count": 49,
     "metadata": {},
     "output_type": "execute_result"
    }
   ],
   "source": [
    "score_and_joke_list"
   ]
  },
  {
   "cell_type": "code",
   "execution_count": 47,
   "metadata": {},
   "outputs": [
    {
     "name": "stdout",
     "output_type": "stream",
     "text": [
      "6\n"
     ]
    }
   ],
   "source": [
    "text = \"\"\"--- Judge A ---\n",
    " Oh, smash. Another one for the \"cute but painfully predictable\" file. Let's go for a swim, shall we?\n",
    "\n",
    "--- Judge B ---\n",
    " Ah, a penguin, sunscreen, and a 'chill party'! The sheer incongruity... the unexpected juxtaposition of icy feathers and solar protection! And the destination: a 'chill party'!  A gathering of what, ice cubes? Frozen yogurt enthusiasts? The absurdity layers itself like a perfectly prepared snowman. It's not quite Pinter, but it has a certain... je ne sais quoi. I'd give it a solid 7. It's not groundbreaking, but it's amusingly bizarre, like finding a giraffe wearing a top hat.\n",
    "\n",
    "--- Judge C ---\n",
    " I'd rate this joke a 6 out of 10. It's a playful pun that relies on the double meaning of \"chill,\" which is moderately clever. The setup is fairly predictable, and the punchline is somewhat expected, but it's still amusing and lighthearted. The joke's brevity and simplicity make it accessible, but it doesn't quite reach the heights of originality or sophistication.\n",
    "\n",
    "--- Debate & Final Verdict ---\n",
    "\n",
    " **Judge A**: *sighs* Alright, fine, but only because I can’t find a *real* joke. Maybe a 5? It’s… something.  \n",
    "\n",
    "**Judge B**: *adjusts imaginary monocle* While I appreciate the layers of absurdity, I must admit—it’s not quite *Dali*. But the imagery of penguins slathering sunscreen while mingling with ice cubes? That’s *something*. Let’s say 6.  \n",
    "\n",
    "**Judge C**: Honestly, it’s not terrible. The wordplay works, but it’s not *unforgettable*. I’m sticking with my 6—it’s harmless fun, nothing more.  \n",
    "\n",
    "**Final Rating**: **6**  \n",
    "\n",
    "*Reasons*: The joke’s strength lies in its absurdity and wordplay, but it leans heavily on predictability and lacks originality. It’s amusing, but not groundbreaking—much like a penguin at a beach party.\n",
    "\"\"\"\n",
    "\n",
    "rating = extract_final_rating(text)\n",
    "print(rating)"
   ]
  }
 ],
 "metadata": {
  "kernelspec": {
   "display_name": "Python 3 (ipykernel)",
   "language": "python",
   "name": "python3"
  },
  "language_info": {
   "codemirror_mode": {
    "name": "ipython",
    "version": 3
   },
   "file_extension": ".py",
   "mimetype": "text/x-python",
   "name": "python",
   "nbconvert_exporter": "python",
   "pygments_lexer": "ipython3",
   "version": "3.10.12"
  }
 },
 "nbformat": 4,
 "nbformat_minor": 2
}
