{
 "cells": [
  {
   "cell_type": "code",
   "execution_count": 1,
   "metadata": {},
   "outputs": [
    {
     "data": {
      "text/plain": [
       "True"
      ]
     },
     "execution_count": 1,
     "metadata": {},
     "output_type": "execute_result"
    }
   ],
   "source": [
    "import torch\n",
    "torch.cuda.is_available()"
   ]
  },
  {
   "cell_type": "code",
   "execution_count": 2,
   "metadata": {},
   "outputs": [],
   "source": [
    "!pip install -Uqq sarvamai\n",
    "from sarvamai import SarvamAI"
   ]
  },
  {
   "cell_type": "code",
   "execution_count": 3,
   "metadata": {},
   "outputs": [
    {
     "name": "stdout",
     "output_type": "stream",
     "text": [
      "Response:  The capital of India is **New Delhi**. It serves as the political and administrative center of the country, housing key government institutions such as the Parliament, the Rashtrapati Bhavan (President's residence), and the Supreme Court. New Delhi is part of the larger National Capital Region (NCR) and has a rich history, blending modern infrastructure with historical landmarks like the Red Fort and Qutub Minar.\n"
     ]
    }
   ],
   "source": [
    "SARVAM_API_KEY = \"0140c592-6272-4436-8398-111390895f78\"\n",
    "client = SarvamAI(api_subscription_key=SARVAM_API_KEY)\n",
    "\n",
    "messages = [\n",
    "    {\"role\": \"system\", \"content\": \"You are a helpful assistant.\"},\n",
    "    {\"role\": \"user\", \"content\": \"What is the capital of India?\"},\n",
    "]\n",
    "\n",
    "response = client.chat.completions(\n",
    "    messages=messages,\n",
    ")\n",
    "\n",
    "# Extract and print the assistant's reply\n",
    "reply = response.choices[0].message.content\n",
    "print(\"Response:\", reply)"
   ]
  }
 ],
 "metadata": {
  "kernelspec": {
   "display_name": "Python 3 (ipykernel)",
   "language": "python",
   "name": "python3"
  },
  "language_info": {
   "codemirror_mode": {
    "name": "ipython",
    "version": 3
   },
   "file_extension": ".py",
   "mimetype": "text/x-python",
   "name": "python",
   "nbconvert_exporter": "python",
   "pygments_lexer": "ipython3",
   "version": "3.10.12"
  }
 },
 "nbformat": 4,
 "nbformat_minor": 2
}
